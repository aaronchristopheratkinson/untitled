{
 "cells": [
  {
   "cell_type": "code",
   "execution_count": 1,
   "id": "4658b9b3-0ea2-4e01-9c39-71b1ac4e94bb",
   "metadata": {},
   "outputs": [
    {
     "ename": "NameError",
     "evalue": "name 't' is not defined",
     "output_type": "error",
     "traceback": [
      "\u001b[1;31m---------------------------------------------------------------------------\u001b[0m",
      "\u001b[1;31mNameError\u001b[0m                                 Traceback (most recent call last)",
      "Cell \u001b[1;32mIn[1], line 2\u001b[0m\n\u001b[0;32m      1\u001b[0m \u001b[38;5;28;01mfrom\u001b[39;00m \u001b[38;5;21;01msympy\u001b[39;00m \u001b[38;5;28;01mimport\u001b[39;00m exp, sin, cos\n\u001b[1;32m----> 2\u001b[0m f \u001b[38;5;241m=\u001b[39m exp(t)\n\u001b[0;32m      3\u001b[0m \u001b[38;5;28mprint\u001b[39m(f\u001b[38;5;241m.\u001b[39mseries(t, \u001b[38;5;241m0\u001b[39m, \u001b[38;5;241m3\u001b[39m))\n\u001b[0;32m      4\u001b[0m f \u001b[38;5;241m=\u001b[39m exp(sin(t))\n",
      "\u001b[1;31mNameError\u001b[0m: name 't' is not defined"
     ]
    }
   ],
   "source": [
    "# Importing functions from the SymPy library\n",
    "# SymPy is a Python library for symbolic mathematics, this allows users to do algebra and calculus with code\n",
    "from sympy import exp, sin, cos\n",
    "\n",
    "# This is to find the \"Taylor Series\" of e^t around t = 0\n",
    "# A Taylor series is a way to write functions like e^t or sin(t) as an infinite sum of powers of t\n",
    "f = exp(t)\n",
    "print(f.series(t, 0, 3)) # This line computes the first 3 terms (up to t^2)\n",
    "\n",
    "# This combines the exponential function with the sine function\n",
    "# SymPy is being asked to find the first 8 terms of the Taylor series for e^(sin(t))\n",
    "f = exp(sin(t))\n",
    "print(f.series(t, 0, 8))"
   ]
  },
  {
   "cell_type": "code",
   "execution_count": null,
   "id": "a94cc7a7-2026-40fb-aef8-d2ef4ee467aa",
   "metadata": {},
   "outputs": [],
   "source": [
    "# LaTeX is used to display math formulas nicely\n",
    "# This converts the series into a string written in LaTex syntax\n",
    "from sympy import latex\n",
    "print(latex(f.series(t, 0, 7)))"
   ]
  },
  {
   "cell_type": "code",
   "execution_count": 2,
   "id": "62e6d8fb-364f-43b6-90cd-8d727606e7ef",
   "metadata": {},
   "outputs": [
    {
     "ename": "NameError",
     "evalue": "name 'symbols' is not defined",
     "output_type": "error",
     "traceback": [
      "\u001b[1;31m---------------------------------------------------------------------------\u001b[0m",
      "\u001b[1;31mNameError\u001b[0m                                 Traceback (most recent call last)",
      "Cell \u001b[1;32mIn[2], line 2\u001b[0m\n\u001b[0;32m      1\u001b[0m \u001b[38;5;28;01mfrom\u001b[39;00m \u001b[38;5;21;01msympy\u001b[39;00m \u001b[38;5;28;01mimport\u001b[39;00m simplify, expand\n\u001b[1;32m----> 2\u001b[0m x, y \u001b[38;5;241m=\u001b[39m symbols(\u001b[38;5;124m'\u001b[39m\u001b[38;5;124mx, y\u001b[39m\u001b[38;5;124m'\u001b[39m)\n\u001b[0;32m      3\u001b[0m f \u001b[38;5;241m=\u001b[39m \u001b[38;5;241m-\u001b[39msin(x)\u001b[38;5;241m*\u001b[39msin(y) \u001b[38;5;241m+\u001b[39m cos(x)\u001b[38;5;241m*\u001b[39mcos(y)\n\u001b[0;32m      4\u001b[0m \u001b[38;5;28mprint\u001b[39m(simplify(f))\n",
      "\u001b[1;31mNameError\u001b[0m: name 'symbols' is not defined"
     ]
    }
   ],
   "source": [
    "from sympy import simplify, expand\n",
    "\n",
    "# Defining two symbolic variables x and y\n",
    "x, y = symbols('x, y') # These will be placeholders for angles or other value in the trig functions\n",
    "\n",
    "# This expression -sin(x)*sin(y) + cos(x)*cos(y) is actually a known identity and simplifies\n",
    "f = -sin(x)*sin(y) + cos(x)*cos(y)\n",
    "print(simplify(f)) # Use simplify() to ask SymPy to recognize and reduce the expression\n",
    "\n",
    "# Now this is doing the opposite of simplifying\n",
    "# SymPy knows that sin(x+y) = sin(x)*cos(y) + cos(x)*sin(y)\n",
    "# This is called a trig identity, and using expand(trig=True) applies it\n",
    "print(expand(sin(x+y), trig=True))"
   ]
  },
  {
   "cell_type": "code",
   "execution_count": null,
   "id": "77bb4767-8fa4-4ff6-83fe-206aea2cc7e4",
   "metadata": {},
   "outputs": [],
   "source": []
  }
 ],
 "metadata": {
  "kernelspec": {
   "display_name": "Python 3 (ipykernel)",
   "language": "python",
   "name": "python3"
  },
  "language_info": {
   "codemirror_mode": {
    "name": "ipython",
    "version": 3
   },
   "file_extension": ".py",
   "mimetype": "text/x-python",
   "name": "python",
   "nbconvert_exporter": "python",
   "pygments_lexer": "ipython3",
   "version": "3.12.7"
  }
 },
 "nbformat": 4,
 "nbformat_minor": 5
}
