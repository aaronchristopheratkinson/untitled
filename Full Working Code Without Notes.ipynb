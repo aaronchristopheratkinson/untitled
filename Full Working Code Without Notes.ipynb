{
 "cells": [
  {
   "cell_type": "code",
   "execution_count": 27,
   "id": "ccf1a66c-cf4f-4941-8b0c-39050c45798f",
   "metadata": {},
   "outputs": [
    {
     "name": "stdout",
     "output_type": "stream",
     "text": [
      "-g*t + v0\n",
      "acceleration: -g\n",
      "-g*t**2/2 + t*v0\n"
     ]
    }
   ],
   "source": [
    "# not my part/not kadin's part\n",
    "from sympy import (\n",
    "symbols, \n",
    "diff, \n",
    "integrate, \n",
    "Rational, \n",
    "lambdify,\n",
    ")\n",
    "\n",
    "t, v0, g = symbols('t v0 g')\n",
    "y = v0*t - Rational(1,2)*g*t**2\n",
    "dydt = diff(y, t)\n",
    "print(dydt)\n",
    "print('acceleration:', diff(y, t, t))\n",
    "y2 = integrate(dydt, t)\n",
    "y2 - g*t**2/2 + t*v0\n",
    "print(y2)"
   ]
  },
  {
   "cell_type": "code",
   "execution_count": 31,
   "id": "9ef20fda-5cc7-4587-9970-df12f7d4d9eb",
   "metadata": {},
   "outputs": [
    {
     "name": "stdout",
     "output_type": "stream",
     "text": [
      "5.0\n",
      "-14.620000000000001\n",
      "-14.620000000000001\n"
     ]
    }
   ],
   "source": [
    "# not my part/not kadin's part\n",
    "v = lambdify([t, v0, g], # arguments in v\n",
    "             dydt) # symbolic expression\n",
    "print(v(t=0, v0=5, g=9.81))\n",
    "\n",
    "print(v(2, 5, 9.81))\n",
    "\n",
    "print(5 - 9.81*2) # control the previous calculation"
   ]
  },
  {
   "cell_type": "code",
   "execution_count": 34,
   "id": "c2111758-a1da-44d7-85be-9822a8df486c",
   "metadata": {},
   "outputs": [
    {
     "name": "stdout",
     "output_type": "stream",
     "text": [
      "[0, 2*v0/g]\n"
     ]
    }
   ],
   "source": [
    "# not my part/not kadin's part\n",
    "from sympy import solve\n",
    "roots = solve(y, t)\n",
    "print(roots)"
   ]
  },
  {
   "cell_type": "code",
   "execution_count": 36,
   "id": "49810508-b19a-4703-bd7c-839574adcb57",
   "metadata": {},
   "outputs": [
    {
     "name": "stdout",
     "output_type": "stream",
     "text": [
      "0\n",
      "0\n"
     ]
    }
   ],
   "source": [
    "# not my part/not kadin's part\n",
    "print(y.subs(t, roots[0]))\n",
    "print(y.subs(t, roots[1]))"
   ]
  },
  {
   "cell_type": "code",
   "execution_count": 37,
   "id": "4658b9b3-0ea2-4e01-9c39-71b1ac4e94bb",
   "metadata": {},
   "outputs": [
    {
     "name": "stdout",
     "output_type": "stream",
     "text": [
      "1 + t + t**2/2 + O(t**3)\n",
      "1 + t + t**2/2 - t**4/8 - t**5/15 - t**6/240 + t**7/90 + O(t**8)\n"
     ]
    }
   ],
   "source": [
    "# my part/kadin's part\n",
    "from sympy import exp, sin, cos\n",
    "f = exp(t)\n",
    "print(f.series(t, 0, 3))\n",
    "f = exp(sin(t))\n",
    "print(f.series(t, 0, 8))"
   ]
  },
  {
   "cell_type": "code",
   "execution_count": 44,
   "id": "a94cc7a7-2026-40fb-aef8-d2ef4ee467aa",
   "metadata": {},
   "outputs": [
    {
     "name": "stdout",
     "output_type": "stream",
     "text": [
      "1 + t + \\frac{t^{2}}{2} - \\frac{t^{4}}{8} - \\frac{t^{5}}{15} - \\frac{t^{6}}{240} + O\\left(t^{7}\\right)\n"
     ]
    }
   ],
   "source": [
    "# my part/kadin's part\n",
    "from sympy import latex\n",
    "print(latex(f.series(t, 0, 7)))"
   ]
  },
  {
   "cell_type": "code",
   "execution_count": 45,
   "id": "62e6d8fb-364f-43b6-90cd-8d727606e7ef",
   "metadata": {},
   "outputs": [
    {
     "name": "stdout",
     "output_type": "stream",
     "text": [
      "cos(x + y)\n",
      "sin(x)*cos(y) + sin(y)*cos(x)\n"
     ]
    }
   ],
   "source": [
    "# my part/kadin's part\n",
    "from sympy import simplify, expand\n",
    "x, y = symbols('x, y')\n",
    "f = -sin(x)*sin(y) + cos(x)*cos(y)\n",
    "print(simplify(f))\n",
    "print(expand(sin(x+y), trig=True))"
   ]
  },
  {
   "cell_type": "code",
   "execution_count": null,
   "id": "77bb4767-8fa4-4ff6-83fe-206aea2cc7e4",
   "metadata": {},
   "outputs": [],
   "source": []
  }
 ],
 "metadata": {
  "kernelspec": {
   "display_name": "Python 3 (ipykernel)",
   "language": "python",
   "name": "python3"
  },
  "language_info": {
   "codemirror_mode": {
    "name": "ipython",
    "version": 3
   },
   "file_extension": ".py",
   "mimetype": "text/x-python",
   "name": "python",
   "nbconvert_exporter": "python",
   "pygments_lexer": "ipython3",
   "version": "3.12.7"
  }
 },
 "nbformat": 4,
 "nbformat_minor": 5
}
